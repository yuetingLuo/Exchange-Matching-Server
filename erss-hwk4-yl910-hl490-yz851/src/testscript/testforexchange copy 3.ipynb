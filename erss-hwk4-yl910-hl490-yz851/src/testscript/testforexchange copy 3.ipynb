{
 "cells": [
  {
   "cell_type": "code",
   "execution_count": 1,
   "id": "8cc11830",
   "metadata": {},
   "outputs": [
    {
     "name": "stdout",
     "output_type": "stream",
     "text": [
      "Received response:\n",
      "<results>\n",
      "    <error id=\"1\">The account ID exists</error>\n",
      "    <error id=\"2\">The account ID exists</error>\n",
      "    <error id=\"3\">The account ID exists</error>\n",
      "    <created sym=\"X\" id=\"1\">\n",
      "    <created sym=\"X\" id=\"2\">\n",
      "    <created sym=\"X\" id=\"3\">\n",
      "</results>\n"
     ]
    }
   ],
   "source": [
    "import socket\n",
    "\n",
    "# 创建 socket 对象\n",
    "client_socket = socket.socket(socket.AF_INET, socket.SOCK_STREAM)\n",
    "\n",
    "# 连接到服务器\n",
    "server_address = ('localhost', 12345)\n",
    "client_socket.connect(server_address)\n",
    "\n",
    "# create\n",
    "create = \"<?xml version=\\\"1.0\\\" encoding=\\\"UTF-8\\\"?><create>\" + \\\n",
    "                \"    <account id=\\\"1\\\" balance=\\\"1000000\\\"/>\" + \\\n",
    "                \"    <account id=\\\"2\\\" balance=\\\"1000000\\\"/>\" + \\\n",
    "                \"    <account id=\\\"3\\\" balance=\\\"1000000\\\"/>\" + \\\n",
    "                \"    <symbol sym=\\\"X\\\">\" + \\\n",
    "                \"      <account id=\\\"1\\\">10000</account>\" + \\\n",
    "                \"      <account id=\\\"2\\\">10000</account>\" + \\\n",
    "                \"      <account id=\\\"3\\\">10000</account>\" + \\\n",
    "                \"    </symbol>\" + \\\n",
    "                \"</create>\";\n",
    "    \n",
    "\n",
    "request = str(len(create)) + '\\n' + create\n",
    "client_socket.sendall(request.encode())\n",
    "#     print('Sent request:', request)\n",
    "\n",
    "    # 接收响应\n",
    "response = client_socket.recv(1024).decode()\n",
    "print('Received response:')\n",
    "print(response)\n",
    "\n",
    "client_socket.close()"
   ]
  },
  {
   "cell_type": "code",
   "execution_count": 2,
   "id": "d563471a",
   "metadata": {},
   "outputs": [
    {
     "name": "stdout",
     "output_type": "stream",
     "text": [
      "Received response:\n",
      "<results>\n",
      "    <open sym=\"X\" amount=\"300\" limit=\"125.0\" id=\"8\">\n",
      "</results>\n"
     ]
    }
   ],
   "source": [
    "# 创建 socket 对象\n",
    "client_socket = socket.socket(socket.AF_INET, socket.SOCK_STREAM)\n",
    "\n",
    "# 连接到服务器\n",
    "server_address = ('localhost', 12345)\n",
    "client_socket.connect(server_address)\n",
    "order2 = \"<?xml version=\\\"1.0\\\" encoding=\\\"UTF-8\\\"?> <transactions id=\\\"1\\\">\" + \\\n",
    "        \"  <order sym=\\\"X\\\" amount=\\\"300\\\" limit=\\\"125\\\"/>\" + \\\n",
    "        \"</transactions>\";\n",
    "request = str(len(order2)) + '\\n' + order2\n",
    "client_socket.sendall(request.encode())\n",
    "\n",
    "# 接收响应\n",
    "response = client_socket.recv(1024).decode()\n",
    "print('Received response:')\n",
    "print(response)\n",
    "client_socket.close()   \n"
   ]
  },
  {
   "cell_type": "code",
   "execution_count": 3,
   "id": "280ef951",
   "metadata": {},
   "outputs": [
    {
     "name": "stdout",
     "output_type": "stream",
     "text": [
      "Received response:\n",
      "<results>\n",
      "    <open sym=\"X\" amount=\"-100\" limit=\"130.0\" id=\"9\">\n",
      "</results>\n"
     ]
    }
   ],
   "source": [
    "# 创建 socket 对象\n",
    "client_socket = socket.socket(socket.AF_INET, socket.SOCK_STREAM)\n",
    "\n",
    "# 连接到服务器\n",
    "server_address = ('localhost', 12345)\n",
    "client_socket.connect(server_address)\n",
    "order2 = \"<?xml version=\\\"1.0\\\" encoding=\\\"UTF-8\\\"?> <transactions id=\\\"2\\\">\" + \\\n",
    "        \"  <order sym=\\\"X\\\" amount=\\\"-100\\\" limit=\\\"130\\\"/>\" + \\\n",
    "        \"</transactions>\";\n",
    "request = str(len(order2)) + '\\n' + order2\n",
    "client_socket.sendall(request.encode())\n",
    "\n",
    "# 接收响应\n",
    "response = client_socket.recv(1024).decode()\n",
    "print('Received response:')\n",
    "print(response)\n",
    "client_socket.close()   \n"
   ]
  },
  {
   "cell_type": "code",
   "execution_count": 4,
   "id": "34be912c",
   "metadata": {},
   "outputs": [
    {
     "name": "stdout",
     "output_type": "stream",
     "text": [
      "Received response:\n",
      "<results>\n",
      "    <open sym=\"X\" amount=\"200\" limit=\"127.0\" id=\"10\">\n",
      "</results>\n"
     ]
    }
   ],
   "source": [
    "# 创建 socket 对象\n",
    "client_socket = socket.socket(socket.AF_INET, socket.SOCK_STREAM)\n",
    "\n",
    "# 连接到服务器\n",
    "server_address = ('localhost', 12345)\n",
    "client_socket.connect(server_address)\n",
    "order2 = \"<?xml version=\\\"1.0\\\" encoding=\\\"UTF-8\\\"?> <transactions id=\\\"1\\\">\" + \\\n",
    "        \"  <order sym=\\\"X\\\" amount=\\\"200\\\" limit=\\\"127\\\"/>\" + \\\n",
    "        \"</transactions>\";\n",
    "request = str(len(order2)) + '\\n' + order2\n",
    "client_socket.sendall(request.encode())\n",
    "\n",
    "# 接收响应\n",
    "response = client_socket.recv(1024).decode()\n",
    "print('Received response:')\n",
    "print(response)\n",
    "client_socket.close()   \n"
   ]
  },
  {
   "cell_type": "code",
   "execution_count": 5,
   "id": "e42321c0",
   "metadata": {},
   "outputs": [
    {
     "name": "stdout",
     "output_type": "stream",
     "text": [
      "Received response:\n",
      "<results>\n",
      "    <open sym=\"X\" amount=\"-500\" limit=\"128.0\" id=\"11\">\n",
      "    <open sym=\"X\" amount=\"-200\" limit=\"140.0\" id=\"12\">\n",
      "</results>\n"
     ]
    }
   ],
   "source": [
    "# 创建 socket 对象\n",
    "client_socket = socket.socket(socket.AF_INET, socket.SOCK_STREAM)\n",
    "\n",
    "# 连接到服务器\n",
    "server_address = ('localhost', 12345)\n",
    "client_socket.connect(server_address)\n",
    "order2 = \"<?xml version=\\\"1.0\\\" encoding=\\\"UTF-8\\\"?> <transactions id=\\\"2\\\">\" + \\\n",
    "        \"  <order sym=\\\"X\\\" amount=\\\"-500\\\" limit=\\\"128\\\"/>\" + \\\n",
    "        \"  <order sym=\\\"X\\\" amount=\\\"-200\\\" limit=\\\"140\\\"/>\" + \\\n",
    "        \"</transactions>\";\n",
    "request = str(len(order2)) + '\\n' + order2\n",
    "client_socket.sendall(request.encode())\n",
    "\n",
    "# 接收响应\n",
    "response = client_socket.recv(1024).decode()\n",
    "print('Received response:')\n",
    "print(response)\n",
    "client_socket.close()   \n"
   ]
  },
  {
   "cell_type": "code",
   "execution_count": 6,
   "id": "f9c835d8",
   "metadata": {},
   "outputs": [
    {
     "name": "stdout",
     "output_type": "stream",
     "text": [
      "Received response:\n",
      "<results>\n",
      "    <open sym=\"X\" amount=\"400\" limit=\"125.0\" id=\"13\">\n",
      "</results>\n"
     ]
    }
   ],
   "source": [
    "# 创建 socket 对象\n",
    "client_socket = socket.socket(socket.AF_INET, socket.SOCK_STREAM)\n",
    "\n",
    "# 连接到服务器\n",
    "server_address = ('localhost', 12345)\n",
    "client_socket.connect(server_address)\n",
    "order2 = \"<?xml version=\\\"1.0\\\" encoding=\\\"UTF-8\\\"?> <transactions id=\\\"1\\\">\" + \\\n",
    "        \"  <order sym=\\\"X\\\" amount=\\\"400\\\" limit=\\\"125\\\"/>\" + \\\n",
    "        \"</transactions>\";\n",
    "request = str(len(order2)) + '\\n' + order2\n",
    "client_socket.sendall(request.encode())\n",
    "\n",
    "# 接收响应\n",
    "response = client_socket.recv(1024).decode()\n",
    "print('Received response:')\n",
    "print(response)\n",
    "client_socket.close()   \n"
   ]
  },
  {
   "cell_type": "code",
   "execution_count": 7,
   "id": "38b981a4",
   "metadata": {},
   "outputs": [
    {
     "name": "stdout",
     "output_type": "stream",
     "text": [
      "Received response:\n",
      "<results>\n",
      "    <status id=\"1\">\n",
      "        <open shares=\"300\"/>\n",
      "    </status>\n",
      "    <status id=\"2\">\n",
      "        <open shares=\"300\"/>\n",
      "    </status>\n",
      "    <status id=\"3\">\n",
      "        <open shares=\"300\"/>\n",
      "    </status>\n",
      "    <status id=\"4\">\n",
      "        <open shares=\"300\"/>\n",
      "    </status>\n",
      "    <status id=\"5\">\n",
      "        <open shares=\"300\"/>\n",
      "    </status>\n",
      "    <status id=\"6\">\n",
      "        <open shares=\"300\"/>\n",
      "    </status>\n",
      "</results>\n"
     ]
    }
   ],
   "source": [
    " # 创建 socket 对象\n",
    "client_socket = socket.socket(socket.AF_INET, socket.SOCK_STREAM)\n",
    "\n",
    "# 连接到服务器\n",
    "server_address = ('localhost', 12345)\n",
    "client_socket.connect(server_address)\n",
    "query1 = \"<?xml version=\\\"1.0\\\" encoding=\\\"UTF-8\\\"?> <transactions id=\\\"1\\\">\" + \\\n",
    "        \"  <query id=\\\"1\\\"/>\" + \\\n",
    "        \"  <query id=\\\"2\\\"/>\" + \\\n",
    "        \"  <query id=\\\"3\\\"/>\" + \\\n",
    "        \"  <query id=\\\"4\\\"/>\" + \\\n",
    "        \"  <query id=\\\"5\\\"/>\" + \\\n",
    "        \"  <query id=\\\"6\\\"/>\" + \\\n",
    "        \"</transactions>\";\n",
    "request = str(len(query1)) + '\\n' + query1\n",
    "client_socket.sendall(request.encode())\n",
    "\n",
    "# 接收响应\n",
    "response = client_socket.recv(1024).decode()\n",
    "print('Received response:')\n",
    "print(response)\n",
    "client_socket.close()  "
   ]
  },
  {
   "cell_type": "code",
   "execution_count": 8,
   "id": "d1bb534a",
   "metadata": {},
   "outputs": [
    {
     "name": "stdout",
     "output_type": "stream",
     "text": [
      "Received response:\n",
      "<results>\n",
      "    <status id=\"1\">\n",
      "        <error>This transaction is not for you</error>\n",
      "    </status>\n",
      "    <status id=\"2\">\n",
      "        <error>This transaction is not for you</error>\n",
      "    </status>\n",
      "    <status id=\"3\">\n",
      "        <error>This transaction is not for you</error>\n",
      "    </status>\n",
      "    <status id=\"4\">\n",
      "        <error>This transaction is not for you</error>\n",
      "    </status>\n",
      "    <status id=\"5\">\n",
      "        <error>This transaction is not for you</error>\n",
      "    </status>\n",
      "    <status id=\"6\">\n",
      "        <error>This transaction is not for you</error>\n",
      "    </status>\n",
      "</results>\n"
     ]
    }
   ],
   "source": [
    " # 创建 socket 对象\n",
    "client_socket = socket.socket(socket.AF_INET, socket.SOCK_STREAM)\n",
    "\n",
    "# 连接到服务器\n",
    "server_address = ('localhost', 12345)\n",
    "client_socket.connect(server_address)\n",
    "query1 = \"<?xml version=\\\"1.0\\\" encoding=\\\"UTF-8\\\"?> <transactions id=\\\"2\\\">\" + \\\n",
    "        \"  <query id=\\\"1\\\"/>\" + \\\n",
    "        \"  <query id=\\\"2\\\"/>\" + \\\n",
    "        \"  <query id=\\\"3\\\"/>\" + \\\n",
    "        \"  <query id=\\\"4\\\"/>\" + \\\n",
    "        \"  <query id=\\\"5\\\"/>\" + \\\n",
    "        \"  <query id=\\\"6\\\"/>\" + \\\n",
    "        \"</transactions>\";\n",
    "request = str(len(query1)) + '\\n' + query1\n",
    "client_socket.sendall(request.encode())\n",
    "\n",
    "# 接收响应\n",
    "response = client_socket.recv(1024).decode()\n",
    "print('Received response:')\n",
    "print(response)\n",
    "client_socket.close()  "
   ]
  },
  {
   "cell_type": "code",
   "execution_count": 9,
   "id": "4b3fa3c1",
   "metadata": {},
   "outputs": [
    {
     "name": "stdout",
     "output_type": "stream",
     "text": [
      "Received response:\n",
      "<results>\n",
      "    <open sym=\"X\" amount=\"-400\" limit=\"124.0\" id=\"14\">\n",
      "</results>\n"
     ]
    }
   ],
   "source": [
    "# 创建 socket 对象\n",
    "client_socket = socket.socket(socket.AF_INET, socket.SOCK_STREAM)\n",
    "\n",
    "# 连接到服务器\n",
    "server_address = ('localhost', 12345)\n",
    "client_socket.connect(server_address)\n",
    "order2 = \"<?xml version=\\\"1.0\\\" encoding=\\\"UTF-8\\\"?> <transactions id=\\\"2\\\">\" + \\\n",
    "        \"  <order sym=\\\"X\\\" amount=\\\"-400\\\" limit=\\\"124\\\"/>\" + \\\n",
    "        \"</transactions>\";\n",
    "request = str(len(order2)) + '\\n' + order2\n",
    "client_socket.sendall(request.encode())\n",
    "\n",
    "# 接收响应\n",
    "response = client_socket.recv(1024).decode()\n",
    "print('Received response:')\n",
    "print(response)\n",
    "client_socket.close()   \n"
   ]
  },
  {
   "cell_type": "code",
   "execution_count": 10,
   "id": "95883004",
   "metadata": {},
   "outputs": [
    {
     "name": "stdout",
     "output_type": "stream",
     "text": [
      "Received response:\n",
      "<results>\n",
      "    <status id=\"1\">\n",
      "        <open shares=\"100\"/>\n",
      "        <executed shares=\"200\" price=\"125.0\" time=\"1715056976\"/>\n",
      "    </status>\n",
      "    <status id=\"2\">\n",
      "        <open shares=\"300\"/>\n",
      "    </status>\n",
      "    <status id=\"3\">\n",
      "        <open shares=\"300\"/>\n",
      "    </status>\n",
      "    <status id=\"4\">\n",
      "        <open shares=\"300\"/>\n",
      "    </status>\n",
      "    <status id=\"5\">\n",
      "        <open shares=\"300\"/>\n",
      "    </status>\n",
      "    <status id=\"6\">\n",
      "        <open shares=\"300\"/>\n",
      "    </status>\n",
      "    <status id=\"7\">\n",
      "        <open shares=\"300\"/>\n",
      "    </status>\n",
      "</results>\n"
     ]
    }
   ],
   "source": [
    " # 创建 socket 对象\n",
    "client_socket = socket.socket(socket.AF_INET, socket.SOCK_STREAM)\n",
    "\n",
    "# 连接到服务器\n",
    "server_address = ('localhost', 12345)\n",
    "client_socket.connect(server_address)\n",
    "query1 = \"<?xml version=\\\"1.0\\\" encoding=\\\"UTF-8\\\"?> <transactions id=\\\"1\\\">\" + \\\n",
    "        \"  <query id=\\\"1\\\"/>\" + \\\n",
    "        \"  <query id=\\\"2\\\"/>\" + \\\n",
    "        \"  <query id=\\\"3\\\"/>\" + \\\n",
    "        \"  <query id=\\\"4\\\"/>\" + \\\n",
    "        \"  <query id=\\\"5\\\"/>\" + \\\n",
    "        \"  <query id=\\\"6\\\"/>\" + \\\n",
    "        \"  <query id=\\\"7\\\"/>\" + \\\n",
    "        \"</transactions>\";\n",
    "request = str(len(query1)) + '\\n' + query1\n",
    "client_socket.sendall(request.encode())\n",
    "\n",
    "# 接收响应\n",
    "response = client_socket.recv(1024).decode()\n",
    "print('Received response:')\n",
    "print(response)\n",
    "client_socket.close()  "
   ]
  },
  {
   "cell_type": "code",
   "execution_count": 11,
   "id": "0b552f78",
   "metadata": {},
   "outputs": [
    {
     "name": "stdout",
     "output_type": "stream",
     "text": [
      "Received response:\n",
      "<results>\n",
      "    <status id=\"1\">\n",
      "        <error>This transaction is not for you</error>\n",
      "    </status>\n",
      "    <status id=\"2\">\n",
      "        <error>This transaction is not for you</error>\n",
      "    </status>\n",
      "    <status id=\"3\">\n",
      "        <error>This transaction is not for you</error>\n",
      "    </status>\n",
      "    <status id=\"4\">\n",
      "        <error>This transaction is not for you</error>\n",
      "    </status>\n",
      "    <status id=\"5\">\n",
      "        <error>This transaction is not for you</error>\n",
      "    </status>\n",
      "    <status id=\"6\">\n",
      "        <error>This transaction is not for you</error>\n",
      "    </status>\n",
      "    <status id=\"7\">\n",
      "        <error>This transaction is not for you</error>\n",
      "    </status>\n",
      "</results>\n"
     ]
    }
   ],
   "source": [
    " # 创建 socket 对象\n",
    "client_socket = socket.socket(socket.AF_INET, socket.SOCK_STREAM)\n",
    "\n",
    "# 连接到服务器\n",
    "server_address = ('localhost', 12345)\n",
    "client_socket.connect(server_address)\n",
    "query1 = \"<?xml version=\\\"1.0\\\" encoding=\\\"UTF-8\\\"?> <transactions id=\\\"2\\\">\" + \\\n",
    "        \"  <query id=\\\"1\\\"/>\" + \\\n",
    "        \"  <query id=\\\"2\\\"/>\" + \\\n",
    "        \"  <query id=\\\"3\\\"/>\" + \\\n",
    "        \"  <query id=\\\"4\\\"/>\" + \\\n",
    "        \"  <query id=\\\"5\\\"/>\" + \\\n",
    "        \"  <query id=\\\"6\\\"/>\" + \\\n",
    "        \"  <query id=\\\"7\\\"/>\" + \\\n",
    "        \"</transactions>\";\n",
    "request = str(len(query1)) + '\\n' + query1\n",
    "client_socket.sendall(request.encode())\n",
    "\n",
    "# 接收响应\n",
    "response = client_socket.recv(1024).decode()\n",
    "print('Received response:')\n",
    "print(response)\n",
    "client_socket.close()  "
   ]
  }
 ],
 "metadata": {
  "kernelspec": {
   "display_name": "Python 3 (ipykernel)",
   "language": "python",
   "name": "python3"
  },
  "language_info": {
   "codemirror_mode": {
    "name": "ipython",
    "version": 3
   },
   "file_extension": ".py",
   "mimetype": "text/x-python",
   "name": "python",
   "nbconvert_exporter": "python",
   "pygments_lexer": "ipython3",
   "version": "3.8.10"
  }
 },
 "nbformat": 4,
 "nbformat_minor": 5
}
