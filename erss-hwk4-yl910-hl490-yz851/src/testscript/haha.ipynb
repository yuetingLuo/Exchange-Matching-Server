{
 "cells": [
  {
   "cell_type": "code",
   "execution_count": 1,
   "id": "8cc11830",
   "metadata": {},
   "outputs": [
    {
     "name": "stdout",
     "output_type": "stream",
     "text": [
      "120\n",
      "<?xml version=\"1.0\" encoding=\"UTF-8\"?>\n",
      "<transactions id=\"1\">\n",
      "  <order sym=\"X\" amount=\"300\" limit=\"125\"/>\n",
      "</transactions>\n",
      "\n",
      "Received response:\n",
      "<results>\n",
      "    <error>AccountId invalid</error>\n",
      "</results>\n"
     ]
    }
   ],
   "source": [
    "import socket\n",
    "\n",
    "req_file = open('haha', 'r')\n",
    "contents = req_file.read()\n",
    "\n",
    "send_buff = str(len(contents)) + '\\n' + contents\n",
    "\n",
    "print(send_buff)\n",
    "sock = socket.socket(socket.AF_INET, socket.SOCK_STREAM)\n",
    "sock.connect(('localhost', 12345))\n",
    "sock.send(send_buff.encode())\n",
    "\n",
    "response = ''\n",
    "while ('</results>' not in response):\n",
    "    response = response + sock.recv(1024).decode()\n",
    "\n",
    "print('\\nReceived response:')\n",
    "print(response)\n",
    "sock.close()"
   ]
  }
 ],
 "metadata": {
  "kernelspec": {
   "display_name": "Python 3 (ipykernel)",
   "language": "python",
   "name": "python3"
  },
  "language_info": {
   "codemirror_mode": {
    "name": "ipython",
    "version": 3
   },
   "file_extension": ".py",
   "mimetype": "text/x-python",
   "name": "python",
   "nbconvert_exporter": "python",
   "pygments_lexer": "ipython3",
   "version": "3.8.10"
  }
 },
 "nbformat": 4,
 "nbformat_minor": 5
}
