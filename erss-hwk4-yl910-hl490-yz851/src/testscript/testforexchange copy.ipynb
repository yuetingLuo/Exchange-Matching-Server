{
 "cells": [
  {
   "cell_type": "code",
   "execution_count": 11,
   "id": "8cc11830",
   "metadata": {},
   "outputs": [
    {
     "name": "stdout",
     "output_type": "stream",
     "text": [
      "Received response:\n",
      "<results>\n",
      "    <created id=\"10\">\n",
      "    <created id=\"20\">\n",
      "    <created id=\"30\">\n",
      "    <created sym=\"Y\" id=\"10\">\n",
      "    <created sym=\"Y\" id=\"20\">\n",
      "</results>\n"
     ]
    }
   ],
   "source": [
    "import socket\n",
    "\n",
    "# 创建 socket 对象\n",
    "client_socket = socket.socket(socket.AF_INET, socket.SOCK_STREAM)\n",
    "\n",
    "# 连接到服务器\n",
    "server_address = ('localhost', 12345)\n",
    "client_socket.connect(server_address)\n",
    "\n",
    "# create\n",
    "create = \"<?xml version=\\\"1.0\\\" encoding=\\\"UTF-8\\\"?><create>\" + \\\n",
    "                \"    <account id=\\\"10\\\" balance=\\\"1000000\\\"/>\" + \\\n",
    "                \"    <account id=\\\"20\\\" balance=\\\"1000000\\\"/>\" + \\\n",
    "                \"    <account id=\\\"30\\\" balance=\\\"1000000\\\"/>\" + \\\n",
    "                \"    <symbol sym=\\\"Y\\\">\" + \\\n",
    "                \"      <account id=\\\"10\\\">10</account>\" + \\\n",
    "                \"      <account id=\\\"20\\\">10</account>\" + \\\n",
    "                \"    </symbol>\" + \\\n",
    "                \"</create>\";\n",
    "    \n",
    "\n",
    "request = str(len(create)) + '\\n' + create\n",
    "client_socket.sendall(request.encode())\n",
    "#     print('Sent request:', request)\n",
    "\n",
    "    # 接收响应\n",
    "response = client_socket.recv(1024).decode()\n",
    "print('Received response:')\n",
    "print(response)\n",
    "\n",
    "client_socket.close()"
   ]
  },
  {
   "cell_type": "code",
   "execution_count": 12,
   "id": "8efc7942",
   "metadata": {},
   "outputs": [
    {
     "name": "stdout",
     "output_type": "stream",
     "text": [
      "Received response:\n",
      "<results>\n",
      "    <open sym=\"Y\" amount=\"10\" limit=\"5.0\" id=\"1\">\n",
      "</results>\n"
     ]
    }
   ],
   "source": [
    "# 创建 socket 对象\n",
    "client_socket = socket.socket(socket.AF_INET, socket.SOCK_STREAM)\n",
    "\n",
    "# 连接到服务器\n",
    "server_address = ('localhost', 12345)\n",
    "client_socket.connect(server_address)\n",
    "order2 = \"<?xml version=\\\"1.0\\\" encoding=\\\"UTF-8\\\"?> <transactions id=\\\"10\\\">\" + \\\n",
    "        \"  <order sym=\\\"Y\\\" amount=\\\"10\\\" limit=\\\"5\\\"/>\" + \\\n",
    "        \"</transactions>\";\n",
    "request = str(len(order2)) + '\\n' + order2\n",
    "client_socket.sendall(request.encode())\n",
    "\n",
    "# 接收响应\n",
    "response = client_socket.recv(1024).decode()\n",
    "print('Received response:')\n",
    "print(response)\n",
    "client_socket.close()   \n"
   ]
  },
  {
   "cell_type": "code",
   "execution_count": 13,
   "id": "38b981a4",
   "metadata": {},
   "outputs": [
    {
     "name": "stdout",
     "output_type": "stream",
     "text": [
      "Received response:\n",
      "<results>\n",
      "    <status id=\"1\">\n",
      "        <open shares=\"10\"/>\n",
      "    </status>\n",
      "</results>\n"
     ]
    }
   ],
   "source": [
    " # 创建 socket 对象\n",
    "client_socket = socket.socket(socket.AF_INET, socket.SOCK_STREAM)\n",
    "\n",
    "# 连接到服务器\n",
    "server_address = ('localhost', 12345)\n",
    "client_socket.connect(server_address)\n",
    "query1 = \"<?xml version=\\\"1.0\\\" encoding=\\\"UTF-8\\\"?> <transactions id=\\\"10\\\">\" + \\\n",
    "        \"  <query id=\\\"1\\\"/>\" + \\\n",
    "        \"</transactions>\";\n",
    "request = str(len(query1)) + '\\n' + query1\n",
    "client_socket.sendall(request.encode())\n",
    "\n",
    "# 接收响应\n",
    "response = client_socket.recv(1024).decode()\n",
    "print('Received response:')\n",
    "print(response)\n",
    "client_socket.close()  "
   ]
  },
  {
   "cell_type": "code",
   "execution_count": 14,
   "id": "fdd7bf92",
   "metadata": {},
   "outputs": [
    {
     "name": "stdout",
     "output_type": "stream",
     "text": [
      "Received response:\n",
      "<results>\n",
      "    <open sym=\"Y\" amount=\"-10\" limit=\"10.0\" id=\"2\">\n",
      "</results>\n"
     ]
    }
   ],
   "source": [
    "# 创建 socket 对象\n",
    "client_socket = socket.socket(socket.AF_INET, socket.SOCK_STREAM)\n",
    "\n",
    "# 连接到服务器\n",
    "server_address = ('localhost', 12345)\n",
    "client_socket.connect(server_address)\n",
    "order2 = \"<?xml version=\\\"1.0\\\" encoding=\\\"UTF-8\\\"?> <transactions id=\\\"20\\\">\" + \\\n",
    "        \"  <order sym=\\\"Y\\\" amount=\\\"-10\\\" limit=\\\"10\\\"/>\" + \\\n",
    "        \"</transactions>\";\n",
    "request = str(len(order2)) + '\\n' + order2\n",
    "client_socket.sendall(request.encode())\n",
    "\n",
    "# 接收响应\n",
    "response = client_socket.recv(1024).decode()\n",
    "print('Received response:')\n",
    "print(response)\n",
    "client_socket.close()   "
   ]
  },
  {
   "cell_type": "code",
   "execution_count": 15,
   "id": "f3923400",
   "metadata": {},
   "outputs": [
    {
     "name": "stdout",
     "output_type": "stream",
     "text": [
      "Received response:\n",
      "<results>\n",
      "    <status id=\"2\">\n",
      "        <open shares=\"10\"/>\n",
      "    </status>\n",
      "</results>\n"
     ]
    }
   ],
   "source": [
    " # 创建 socket 对象\n",
    "client_socket = socket.socket(socket.AF_INET, socket.SOCK_STREAM)\n",
    "\n",
    "# 连接到服务器\n",
    "server_address = ('localhost', 12345)\n",
    "client_socket.connect(server_address)\n",
    "query1 = \"<?xml version=\\\"1.0\\\" encoding=\\\"UTF-8\\\"?> <transactions id=\\\"20\\\">\" + \\\n",
    "        \"  <query id=\\\"2\\\"/>\" + \\\n",
    "        \"</transactions>\";\n",
    "request = str(len(query1)) + '\\n' + query1\n",
    "client_socket.sendall(request.encode())\n",
    "\n",
    "# 接收响应\n",
    "response = client_socket.recv(1024).decode()\n",
    "print('Received response:')\n",
    "print(response)\n",
    "client_socket.close()  "
   ]
  },
  {
   "cell_type": "code",
   "execution_count": 16,
   "id": "801a6622",
   "metadata": {},
   "outputs": [
    {
     "name": "stdout",
     "output_type": "stream",
     "text": [
      "Received response:\n",
      "<results>\n",
      "    <open sym=\"Y\" amount=\"15\" limit=\"10.0\" id=\"3\">\n",
      "</results>\n"
     ]
    }
   ],
   "source": [
    "# 创建 socket 对象\n",
    "client_socket = socket.socket(socket.AF_INET, socket.SOCK_STREAM)\n",
    "\n",
    "# 连接到服务器\n",
    "server_address = ('localhost', 12345)\n",
    "client_socket.connect(server_address)\n",
    "order2 = \"<?xml version=\\\"1.0\\\" encoding=\\\"UTF-8\\\"?> <transactions id=\\\"10\\\">\" + \\\n",
    "        \"  <order sym=\\\"Y\\\" amount=\\\"15\\\" limit=\\\"10\\\"/>\" + \\\n",
    "        \"</transactions>\";\n",
    "request = str(len(order2)) + '\\n' + order2\n",
    "client_socket.sendall(request.encode())\n",
    "\n",
    "# 接收响应\n",
    "response = client_socket.recv(1024).decode()\n",
    "print('Received response:')\n",
    "print(response)\n",
    "client_socket.close()   "
   ]
  },
  {
   "cell_type": "code",
   "execution_count": 17,
   "id": "d139c364",
   "metadata": {},
   "outputs": [
    {
     "name": "stdout",
     "output_type": "stream",
     "text": [
      "Received response:\n",
      "<results>\n",
      "    <status id=\"2\">\n",
      "        <executed shares=\"10\" price=\"10.0\" time=\"1715030982\"/>\n",
      "    </status>\n",
      "</results>\n"
     ]
    }
   ],
   "source": [
    " # 创建 socket 对象\n",
    "client_socket = socket.socket(socket.AF_INET, socket.SOCK_STREAM)\n",
    "\n",
    "# 连接到服务器\n",
    "server_address = ('localhost', 12345)\n",
    "client_socket.connect(server_address)\n",
    "query1 = \"<?xml version=\\\"1.0\\\" encoding=\\\"UTF-8\\\"?> <transactions id=\\\"20\\\">\" + \\\n",
    "        \"  <query id=\\\"2\\\"/>\" + \\\n",
    "        \"</transactions>\";\n",
    "request = str(len(query1)) + '\\n' + query1\n",
    "client_socket.sendall(request.encode())\n",
    "\n",
    "# 接收响应\n",
    "response = client_socket.recv(1024).decode()\n",
    "print('Received response:')\n",
    "print(response)\n",
    "client_socket.close()  "
   ]
  },
  {
   "cell_type": "code",
   "execution_count": 18,
   "id": "5863bb7b",
   "metadata": {},
   "outputs": [
    {
     "name": "stdout",
     "output_type": "stream",
     "text": [
      "Received response:\n",
      "<results>\n",
      "    <status id=\"3\">\n",
      "        <open shares=\"5\"/>\n",
      "        <executed shares=\"10\" price=\"10.0\" time=\"1715030982\"/>\n",
      "    </status>\n",
      "</results>\n"
     ]
    }
   ],
   "source": [
    " # 创建 socket 对象\n",
    "client_socket = socket.socket(socket.AF_INET, socket.SOCK_STREAM)\n",
    "\n",
    "# 连接到服务器\n",
    "server_address = ('localhost', 12345)\n",
    "client_socket.connect(server_address)\n",
    "query1 = \"<?xml version=\\\"1.0\\\" encoding=\\\"UTF-8\\\"?> <transactions id=\\\"10\\\">\" + \\\n",
    "        \"  <query id=\\\"3\\\"/>\" + \\\n",
    "        \"</transactions>\";\n",
    "request = str(len(query1)) + '\\n' + query1\n",
    "client_socket.sendall(request.encode())\n",
    "\n",
    "# 接收响应\n",
    "response = client_socket.recv(1024).decode()\n",
    "print('Received response:')\n",
    "print(response)\n",
    "client_socket.close()"
   ]
  },
  {
   "cell_type": "code",
   "execution_count": 19,
   "id": "457ec4e7",
   "metadata": {},
   "outputs": [
    {
     "name": "stdout",
     "output_type": "stream",
     "text": [
      "Received response:\n",
      "<results>\n",
      "    <error sym=\"Y\" amount=\"-1\" limit=\"10.0\">Share insufficient, rejected</error>\n",
      "</results>\n"
     ]
    }
   ],
   "source": [
    "# 创建 socket 对象\n",
    "client_socket = socket.socket(socket.AF_INET, socket.SOCK_STREAM)\n",
    "\n",
    "# 连接到服务器\n",
    "server_address = ('localhost', 12345)\n",
    "client_socket.connect(server_address)\n",
    "order2 = \"<?xml version=\\\"1.0\\\" encoding=\\\"UTF-8\\\"?> <transactions id=\\\"20\\\">\" + \\\n",
    "        \"  <order sym=\\\"Y\\\" amount=\\\"-1\\\" limit=\\\"10\\\"/>\" + \\\n",
    "        \"</transactions>\";\n",
    "request = str(len(order2)) + '\\n' + order2\n",
    "client_socket.sendall(request.encode())\n",
    "\n",
    "# 接收响应\n",
    "response = client_socket.recv(1024).decode()\n",
    "print('Received response:')\n",
    "print(response)\n",
    "client_socket.close()   "
   ]
  }
 ],
 "metadata": {
  "kernelspec": {
   "display_name": "Python 3 (ipykernel)",
   "language": "python",
   "name": "python3"
  },
  "language_info": {
   "codemirror_mode": {
    "name": "ipython",
    "version": 3
   },
   "file_extension": ".py",
   "mimetype": "text/x-python",
   "name": "python",
   "nbconvert_exporter": "python",
   "pygments_lexer": "ipython3",
   "version": "3.8.10"
  }
 },
 "nbformat": 4,
 "nbformat_minor": 5
}
