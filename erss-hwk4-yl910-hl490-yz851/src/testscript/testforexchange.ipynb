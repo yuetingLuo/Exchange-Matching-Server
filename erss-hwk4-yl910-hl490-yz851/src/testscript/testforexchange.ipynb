{
 "cells": [
  {
   "cell_type": "code",
   "execution_count": 97,
   "id": "02f9c047",
   "metadata": {},
   "outputs": [
    {
     "name": "stdout",
     "output_type": "stream",
     "text": [
      "Received response:\n",
      "<results>\n",
      "    <created id=\"1\">\n",
      "    <created id=\"2\">\n",
      "    <created id=\"3\">\n",
      "    <created sym=\"X\" id=\"1\">\n",
      "    <created sym=\"X\" id=\"2\">\n",
      "</results>\n"
     ]
    }
   ],
   "source": [
    "import socket\n",
    "\n",
    "# 创建 socket 对象\n",
    "client_socket = socket.socket(socket.AF_INET, socket.SOCK_STREAM)\n",
    "\n",
    "# 连接到服务器\n",
    "server_address = ('localhost', 12345)\n",
    "client_socket.connect(server_address)\n",
    "\n",
    "# create\n",
    "create = \"<?xml version=\\\"1.0\\\" encoding=\\\"UTF-8\\\"?><create>\" + \\\n",
    "                \"    <account id=\\\"1\\\" balance=\\\"10000\\\"/>\" + \\\n",
    "                \"    <account id=\\\"2\\\" balance=\\\"20000\\\"/>\" + \\\n",
    "                \"    <account id=\\\"3\\\" balance=\\\"100000\\\"/>\" + \\\n",
    "                \"    <symbol sym=\\\"X\\\">\" + \\\n",
    "                \"      <account id=\\\"1\\\">100</account>\" + \\\n",
    "                \"      <account id=\\\"2\\\">100</account>\" + \\\n",
    "                \"    </symbol>\" + \\\n",
    "                \"</create>\";\n",
    "    \n",
    "\n",
    "request = str(len(create)) + '\\n' + create\n",
    "client_socket.sendall(request.encode())\n",
    "#     print('Sent request:', request)\n",
    "\n",
    "    # 接收响应\n",
    "response = client_socket.recv(1024).decode()\n",
    "print('Received response:')\n",
    "print(response)\n",
    "\n",
    "client_socket.close()"
   ]
  },
  {
   "cell_type": "code",
   "execution_count": 98,
   "id": "fc9bab48",
   "metadata": {},
   "outputs": [
    {
     "name": "stdout",
     "output_type": "stream",
     "text": [
      "Received response:\n",
      "<results>\n",
      "    <open sym=\"X\" amount=\"-100\" limit=\"180.0\" id=\"1\">\n",
      "</results>\n"
     ]
    }
   ],
   "source": [
    "# 创建 socket 对象\n",
    "client_socket = socket.socket(socket.AF_INET, socket.SOCK_STREAM)\n",
    "\n",
    "# 连接到服务器\n",
    "server_address = ('localhost', 12345)\n",
    "client_socket.connect(server_address)\n",
    "order1 = \"<?xml version=\\\"1.0\\\" encoding=\\\"UTF-8\\\"?> <transactions id=\\\"2\\\">\" + \\\n",
    "        \"  <order sym=\\\"X\\\" amount=\\\"-100\\\" limit=\\\"180\\\"/>\" + \\\n",
    "        \"</transactions>\";\n",
    "    \n",
    "request = str(len(order1)) + '\\n' + order1\n",
    "client_socket.sendall(request.encode())\n",
    "\n",
    "# 接收响应\n",
    "response = client_socket.recv(1024).decode()\n",
    "print('Received response:')\n",
    "print(response)\n",
    "client_socket.close()"
   ]
  },
  {
   "cell_type": "code",
   "execution_count": 99,
   "id": "d03d456b",
   "metadata": {},
   "outputs": [
    {
     "name": "stdout",
     "output_type": "stream",
     "text": [
      "Received response:\n",
      "<results>\n",
      "    <open sym=\"X\" amount=\"-100\" limit=\"150.0\" id=\"2\">\n",
      "</results>\n"
     ]
    }
   ],
   "source": [
    "# 创建 socket 对象\n",
    "client_socket = socket.socket(socket.AF_INET, socket.SOCK_STREAM)\n",
    "\n",
    "# 连接到服务器\n",
    "server_address = ('localhost', 12345)\n",
    "client_socket.connect(server_address)\n",
    "order2 = \"<?xml version=\\\"1.0\\\" encoding=\\\"UTF-8\\\"?> <transactions id=\\\"1\\\">\" + \\\n",
    "        \"  <order sym=\\\"X\\\" amount=\\\"-100\\\" limit=\\\"150\\\"/>\" + \\\n",
    "        \"</transactions>\";\n",
    "request = str(len(order2)) + '\\n' + order2\n",
    "client_socket.sendall(request.encode())\n",
    "\n",
    "# 接收响应\n",
    "response = client_socket.recv(1024).decode()\n",
    "print('Received response:')\n",
    "print(response)\n",
    "client_socket.close()   \n",
    "    "
   ]
  },
  {
   "cell_type": "code",
   "execution_count": 100,
   "id": "20c1c987",
   "metadata": {},
   "outputs": [
    {
     "name": "stdout",
     "output_type": "stream",
     "text": [
      "Received response:\n",
      "<results>\n",
      "    <open sym=\"X\" amount=\"500\" limit=\"200.0\" id=\"3\">\n",
      "</results>\n"
     ]
    }
   ],
   "source": [
    "# 创建 socket 对象\n",
    "client_socket = socket.socket(socket.AF_INET, socket.SOCK_STREAM)\n",
    "\n",
    "# 连接到服务器\n",
    "server_address = ('localhost', 12345)\n",
    "client_socket.connect(server_address)\n",
    "order = \"<?xml version=\\\"1.0\\\" encoding=\\\"UTF-8\\\"?> <transactions id=\\\"3\\\">\" + \\\n",
    "        \"  <order sym=\\\"X\\\" amount=\\\"500\\\" limit=\\\"200\\\"/>\" + \\\n",
    "        \"</transactions>\";\n",
    "request = str(len(order)) + '\\n' + order\n",
    "client_socket.sendall(request.encode())\n",
    "\n",
    "# 接收响应\n",
    "response = client_socket.recv(1024).decode()\n",
    "print('Received response:')\n",
    "print(response)\n",
    "client_socket.close()   \n",
    "    "
   ]
  },
  {
   "cell_type": "code",
   "execution_count": 101,
   "id": "8d52fd35",
   "metadata": {},
   "outputs": [
    {
     "name": "stdout",
     "output_type": "stream",
     "text": [
      "Received response:\n",
      "<results>\n",
      "    <status id=\"2\">\n",
      "        <executed shares=\"100\" price=\"150.0\" time=\"1715026738\"/>\n",
      "    </status>\n",
      "</results>\n"
     ]
    }
   ],
   "source": [
    "# 创建 socket 对象\n",
    "client_socket = socket.socket(socket.AF_INET, socket.SOCK_STREAM)\n",
    "\n",
    "# 连接到服务器\n",
    "server_address = ('localhost', 12345)\n",
    "client_socket.connect(server_address)\n",
    "query1 = \"<?xml version=\\\"1.0\\\" encoding=\\\"UTF-8\\\"?> <transactions id=\\\"1\\\">\" + \\\n",
    "        \"  <query id=\\\"2\\\"/>\" + \\\n",
    "        \"</transactions>\";\n",
    "request = str(len(query1)) + '\\n' + query1\n",
    "client_socket.sendall(request.encode())\n",
    "\n",
    "# 接收响应\n",
    "response = client_socket.recv(1024).decode()\n",
    "print('Received response:')\n",
    "print(response)\n",
    "client_socket.close()   \n",
    "    "
   ]
  },
  {
   "cell_type": "code",
   "execution_count": 102,
   "id": "5e89592a",
   "metadata": {},
   "outputs": [
    {
     "name": "stdout",
     "output_type": "stream",
     "text": [
      "Received response:\n",
      "<results>\n",
      "    <status id=\"44\">\n",
      "        <error>TransactionID is invalid</error>\n",
      "    </status>\n",
      "</results>\n"
     ]
    }
   ],
   "source": [
    "# 创建 socket 对象\n",
    "client_socket = socket.socket(socket.AF_INET, socket.SOCK_STREAM)\n",
    "\n",
    "# 连接到服务器\n",
    "server_address = ('localhost', 12345)\n",
    "client_socket.connect(server_address)\n",
    "query = \"<?xml version=\\\"1.0\\\" encoding=\\\"UTF-8\\\"?> <transactions id=\\\"12\\\">\" + \\\n",
    "        \"  <query id=\\\"44\\\"/>\" + \\\n",
    "        \"</transactions>\";\n",
    "request = str(len(query)) + '\\n' + query\n",
    "client_socket.sendall(request.encode())\n",
    "\n",
    "# 接收响应\n",
    "response = client_socket.recv(1024).decode()\n",
    "print('Received response:')\n",
    "print(response)\n",
    "client_socket.close()   \n",
    "    "
   ]
  },
  {
   "cell_type": "code",
   "execution_count": 103,
   "id": "e0150cee",
   "metadata": {},
   "outputs": [
    {
     "name": "stdout",
     "output_type": "stream",
     "text": [
      "Received response:\n",
      "<results>\n",
      "    <open sym=\"X\" amount=\"100\" limit=\"200.0\" id=\"4\">\n",
      "</results>\n"
     ]
    }
   ],
   "source": [
    "# 创建 socket 对象\n",
    "client_socket = socket.socket(socket.AF_INET, socket.SOCK_STREAM)\n",
    "\n",
    "# 连接到服务器\n",
    "server_address = ('localhost', 12345)\n",
    "client_socket.connect(server_address)\n",
    "order = \"<?xml version=\\\"1.0\\\" encoding=\\\"UTF-8\\\"?> <transactions id=\\\"2\\\">\" + \\\n",
    "        \"  <order sym=\\\"X\\\" amount=\\\"100\\\" limit=\\\"200\\\"/>\" + \\\n",
    "        \"</transactions>\"\n",
    "request = str(len(order)) + '\\n' + order\n",
    "client_socket.sendall(request.encode())\n",
    "\n",
    "# 接收响应\n",
    "response = client_socket.recv(1024).decode()\n",
    "print('Received response:')\n",
    "print(response)\n",
    "client_socket.close()   \n",
    "    "
   ]
  },
  {
   "cell_type": "code",
   "execution_count": 104,
   "id": "ebf22684",
   "metadata": {},
   "outputs": [
    {
     "name": "stdout",
     "output_type": "stream",
     "text": [
      "Received response:\n",
      "<results>\n",
      "    <open sym=\"X\" amount=\"100\" limit=\"200.0\" id=\"5\">\n",
      "</results>\n"
     ]
    }
   ],
   "source": [
    "# 创建 socket 对象\n",
    "client_socket = socket.socket(socket.AF_INET, socket.SOCK_STREAM)\n",
    "\n",
    "# 连接到服务器\n",
    "server_address = ('localhost', 12345)\n",
    "client_socket.connect(server_address)\n",
    "order = \"<?xml version=\\\"1.0\\\" encoding=\\\"UTF-8\\\"?> <transactions id=\\\"1\\\">\" + \\\n",
    "        \"  <order sym=\\\"X\\\" amount=\\\"100\\\" limit=\\\"200\\\"/>\" + \\\n",
    "        \"</transactions>\";\n",
    "request = str(len(order)) + '\\n' + order\n",
    "client_socket.sendall(request.encode())\n",
    "\n",
    "# 接收响应\n",
    "response = client_socket.recv(1024).decode()\n",
    "print('Received response:')\n",
    "print(response)\n",
    "client_socket.close()   \n",
    "    "
   ]
  },
  {
   "cell_type": "code",
   "execution_count": 105,
   "id": "2cabcfc4",
   "metadata": {},
   "outputs": [
    {
     "name": "stdout",
     "output_type": "stream",
     "text": [
      "Received response:\n",
      "<results>\n",
      "    <open sym=\"X\" amount=\"-150\" limit=\"150.0\" id=\"6\">\n",
      "</results>\n"
     ]
    }
   ],
   "source": [
    "# 创建 socket 对象\n",
    "client_socket = socket.socket(socket.AF_INET, socket.SOCK_STREAM)\n",
    "\n",
    "# 连接到服务器\n",
    "server_address = ('localhost', 12345)\n",
    "client_socket.connect(server_address)\n",
    "order = \"<?xml version=\\\"1.0\\\" encoding=\\\"UTF-8\\\"?> <transactions id=\\\"3\\\">\" + \\\n",
    "        \"  <order sym=\\\"X\\\" amount=\\\"-150\\\" limit=\\\"150\\\"/>\" + \\\n",
    "        \"</transactions>\";\n",
    "request = str(len(order)) + '\\n' + order\n",
    "client_socket.sendall(request.encode())\n",
    "\n",
    "# 接收响应\n",
    "response = client_socket.recv(1024).decode()\n",
    "print('Received response:')\n",
    "print(response)\n",
    "client_socket.close()   \n",
    "    "
   ]
  },
  {
   "cell_type": "code",
   "execution_count": 106,
   "id": "59a5e8f2",
   "metadata": {},
   "outputs": [
    {
     "name": "stdout",
     "output_type": "stream",
     "text": [
      "Received response:\n",
      "<results>\n",
      "    <error id=\"1\">The account ID exists</error>\n",
      "    <error id=\"2\">The account ID exists</error>\n",
      "</results>\n"
     ]
    }
   ],
   "source": [
    "#test error cases\n",
    "# 创建 socket 对象\n",
    "client_socket = socket.socket(socket.AF_INET, socket.SOCK_STREAM)\n",
    "\n",
    "# 连接到服务器\n",
    "server_address = ('localhost', 12345)\n",
    "client_socket.connect(server_address)\n",
    "\n",
    "# create\n",
    "create = \"<?xml version=\\\"1.0\\\" encoding=\\\"UTF-8\\\"?><create>\" + \\\n",
    "                \"    <account id=\\\"1\\\" balance=\\\"10000\\\"/>\" + \\\n",
    "                \"    <account id=\\\"2\\\" balance=\\\"10000\\\"/>\" + \\\n",
    "                \"</create>\";\n",
    "    \n",
    "\n",
    "request = str(len(create)) + '\\n' + create\n",
    "client_socket.sendall(request.encode())\n",
    "#     print('Sent request:', request)\n",
    "\n",
    "    # 接收响应\n",
    "response = client_socket.recv(1024).decode()\n",
    "print('Received response:')\n",
    "print(response)\n",
    "\n",
    "client_socket.close()"
   ]
  },
  {
   "cell_type": "code",
   "execution_count": 107,
   "id": "d5bd756d",
   "metadata": {},
   "outputs": [
    {
     "name": "stdout",
     "output_type": "stream",
     "text": [
      "Received response:\n",
      "<results>\n",
      "    <error sym=\"X\" id=\"8\">The account does not exist</error>\n",
      "    <error sym=\"X\" id=\"10\">The account does not exist</error>\n",
      "</results>\n"
     ]
    }
   ],
   "source": [
    "#test error cases\n",
    "# 创建 socket 对象\n",
    "client_socket = socket.socket(socket.AF_INET, socket.SOCK_STREAM)\n",
    "\n",
    "# 连接到服务器\n",
    "server_address = ('localhost', 12345)\n",
    "client_socket.connect(server_address)\n",
    "\n",
    "# create\n",
    "create = \"<?xml version=\\\"1.0\\\" encoding=\\\"UTF-8\\\"?><create>\" + \\\n",
    "                \"    <symbol sym=\\\"X\\\">\" + \\\n",
    "                \"      <account id=\\\"8\\\">100</account>\" + \\\n",
    "                \"      <account id=\\\"10\\\">100</account>\" + \\\n",
    "                \"    </symbol>\" + \\\n",
    "                \"</create>\";\n",
    "    \n",
    "\n",
    "request = str(len(create)) + '\\n' + create\n",
    "client_socket.sendall(request.encode())\n",
    "#     print('Sent request:', request)\n",
    "\n",
    "    # 接收响应\n",
    "response = client_socket.recv(1024).decode()\n",
    "print('Received response:')\n",
    "print(response)\n",
    "\n",
    "client_socket.close()"
   ]
  },
  {
   "cell_type": "code",
   "execution_count": 108,
   "id": "341b52c7",
   "metadata": {},
   "outputs": [
    {
     "name": "stdout",
     "output_type": "stream",
     "text": [
      "Received response:\n",
      "<results>\n",
      "    <error sym=\"X\" amount=\"500\" limit=\"150.0\">Balance insufficient, rejected</error>\n",
      "</results>\n"
     ]
    }
   ],
   "source": [
    "#Test order error\n",
    "# 创建 socket 对象\n",
    "client_socket = socket.socket(socket.AF_INET, socket.SOCK_STREAM)\n",
    "\n",
    "# 连接到服务器\n",
    "server_address = ('localhost', 12345)\n",
    "client_socket.connect(server_address)\n",
    "order = \"<?xml version=\\\"1.0\\\" encoding=\\\"UTF-8\\\"?> <transactions id=\\\"1\\\">\" + \\\n",
    "        \"  <order sym=\\\"X\\\" amount=\\\"500\\\" limit=\\\"150\\\"/>\" + \\\n",
    "        \"</transactions>\";\n",
    "request = str(len(order)) + '\\n' + order\n",
    "client_socket.sendall(request.encode())\n",
    "\n",
    "# 接收响应\n",
    "response = client_socket.recv(1024).decode()\n",
    "print('Received response:')\n",
    "print(response)\n",
    "client_socket.close()   \n",
    "    "
   ]
  },
  {
   "cell_type": "code",
   "execution_count": 109,
   "id": "05fa3ab6",
   "metadata": {},
   "outputs": [
    {
     "name": "stdout",
     "output_type": "stream",
     "text": [
      "Received response:\n",
      "<results>\n",
      "    <error sym=\"X\" amount=\"-500\" limit=\"150.0\">Share insufficient, rejected</error>\n",
      "</results>\n"
     ]
    }
   ],
   "source": [
    "#Test order error\n",
    "# 创建 socket 对象\n",
    "client_socket = socket.socket(socket.AF_INET, socket.SOCK_STREAM)\n",
    "\n",
    "# 连接到服务器\n",
    "server_address = ('localhost', 12345)\n",
    "client_socket.connect(server_address)\n",
    "order = \"<?xml version=\\\"1.0\\\" encoding=\\\"UTF-8\\\"?> <transactions id=\\\"1\\\">\" + \\\n",
    "        \"  <order sym=\\\"X\\\" amount=\\\"-500\\\" limit=\\\"150\\\"/>\" + \\\n",
    "        \"</transactions>\";\n",
    "request = str(len(order)) + '\\n' + order\n",
    "client_socket.sendall(request.encode())\n",
    "\n",
    "# 接收响应\n",
    "response = client_socket.recv(1024).decode()\n",
    "print('Received response:')\n",
    "print(response)\n",
    "client_socket.close()   \n",
    "    "
   ]
  },
  {
   "cell_type": "code",
   "execution_count": 110,
   "id": "3f3d3d64",
   "metadata": {},
   "outputs": [
    {
     "name": "stdout",
     "output_type": "stream",
     "text": [
      "Received response:\n",
      "<results>\n",
      "    <error>SYM invalid</error>\n",
      "</results>\n"
     ]
    }
   ],
   "source": [
    "#Test order error\n",
    "# 创建 socket 对象\n",
    "client_socket = socket.socket(socket.AF_INET, socket.SOCK_STREAM)\n",
    "\n",
    "# 连接到服务器\n",
    "server_address = ('localhost', 12345)\n",
    "client_socket.connect(server_address)\n",
    "order = \"<?xml version=\\\"1.0\\\" encoding=\\\"UTF-8\\\"?> <transactions id=\\\"1\\\">\" + \\\n",
    "        \"  <order sym=\\\"B\\\" amount=\\\"-500\\\" limit=\\\"150\\\"/>\" + \\\n",
    "        \"</transactions>\";\n",
    "request = str(len(order)) + '\\n' + order\n",
    "client_socket.sendall(request.encode())\n",
    "\n",
    "# 接收响应\n",
    "response = client_socket.recv(1024).decode()\n",
    "print('Received response:')\n",
    "print(response)\n",
    "client_socket.close()   \n",
    "    "
   ]
  },
  {
   "cell_type": "code",
   "execution_count": 111,
   "id": "10c9a1a3",
   "metadata": {},
   "outputs": [
    {
     "name": "stdout",
     "output_type": "stream",
     "text": [
      "Received response:\n",
      "<results>\n",
      "    <error sym=\"X\" amount=\"-100\" limit=\"150.0\">Share insufficient, rejected</error>\n",
      "</results>\n"
     ]
    }
   ],
   "source": [
    "#Test match multiple orders\n",
    "# 创建 socket 对象\n",
    "client_socket = socket.socket(socket.AF_INET, socket.SOCK_STREAM)\n",
    "\n",
    "# 连接到服务器\n",
    "server_address = ('localhost', 12345)\n",
    "client_socket.connect(server_address)\n",
    "order = \"<?xml version=\\\"1.0\\\" encoding=\\\"UTF-8\\\"?> <transactions id=\\\"1\\\">\" + \\\n",
    "        \"  <order sym=\\\"X\\\" amount=\\\"-100\\\" limit=\\\"150\\\"/>\" + \\\n",
    "        \"</transactions>\";\n",
    "request = str(len(order)) + '\\n' + order\n",
    "client_socket.sendall(request.encode())\n",
    "\n",
    "# 接收响应\n",
    "response = client_socket.recv(1024).decode()\n",
    "print('Received response:')\n",
    "print(response)\n",
    "client_socket.close()   \n",
    "    "
   ]
  },
  {
   "cell_type": "code",
   "execution_count": 112,
   "id": "d9811287",
   "metadata": {},
   "outputs": [
    {
     "name": "stdout",
     "output_type": "stream",
     "text": [
      "Received response:\n",
      "<results>\n",
      "    <error sym=\"X\" amount=\"-100\" limit=\"150.0\">Share insufficient, rejected</error>\n",
      "</results>\n"
     ]
    }
   ],
   "source": [
    "#Test match multiple orders\n",
    "# 创建 socket 对象\n",
    "client_socket = socket.socket(socket.AF_INET, socket.SOCK_STREAM)\n",
    "\n",
    "# 连接到服务器\n",
    "server_address = ('localhost', 12345)\n",
    "client_socket.connect(server_address)\n",
    "order = \"<?xml version=\\\"1.0\\\" encoding=\\\"UTF-8\\\"?> <transactions id=\\\"2\\\">\" + \\\n",
    "        \"  <order sym=\\\"X\\\" amount=\\\"-100\\\" limit=\\\"150\\\"/>\" + \\\n",
    "        \"</transactions>\";\n",
    "request = str(len(order)) + '\\n' + order\n",
    "client_socket.sendall(request.encode())\n",
    "\n",
    "# 接收响应\n",
    "response = client_socket.recv(1024).decode()\n",
    "print('Received response:')\n",
    "print(response)\n",
    "client_socket.close()   \n",
    "    "
   ]
  },
  {
   "cell_type": "code",
   "execution_count": 113,
   "id": "396cdf60",
   "metadata": {},
   "outputs": [
    {
     "name": "stdout",
     "output_type": "stream",
     "text": [
      "Received response:\n",
      "<results>\n",
      "    <error sym=\"X\" amount=\"110\" limit=\"150.0\">Balance insufficient, rejected</error>\n",
      "</results>\n"
     ]
    }
   ],
   "source": [
    "#Test match multiple orders\n",
    "# 创建 socket 对象\n",
    "client_socket = socket.socket(socket.AF_INET, socket.SOCK_STREAM)\n",
    "\n",
    "# 连接到服务器\n",
    "server_address = ('localhost', 12345)\n",
    "client_socket.connect(server_address)\n",
    "order = \"<?xml version=\\\"1.0\\\" encoding=\\\"UTF-8\\\"?> <transactions id=\\\"3\\\">\" + \\\n",
    "        \"  <order sym=\\\"X\\\" amount=\\\"110\\\" limit=\\\"150\\\"/>\" + \\\n",
    "        \"</transactions>\";\n",
    "request = str(len(order)) + '\\n' + order\n",
    "client_socket.sendall(request.encode())\n",
    "\n",
    "# 接收响应\n",
    "response = client_socket.recv(1024).decode()\n",
    "print('Received response:')\n",
    "print(response)\n",
    "client_socket.close()   \n",
    "    "
   ]
  },
  {
   "cell_type": "code",
   "execution_count": 114,
   "id": "9a9c0ccb",
   "metadata": {},
   "outputs": [
    {
     "name": "stdout",
     "output_type": "stream",
     "text": [
      "Received response:\n",
      "<results>\n",
      "    <status id=\"5\">\n",
      "        <open shares=\"100\"/>\n",
      "    </status>\n",
      "</results>\n"
     ]
    }
   ],
   "source": [
    "# 创建 socket 对象\n",
    "client_socket = socket.socket(socket.AF_INET, socket.SOCK_STREAM)\n",
    "\n",
    "# 连接到服务器\n",
    "server_address = ('localhost', 12345)\n",
    "client_socket.connect(server_address)\n",
    "query1 = \"<?xml version=\\\"1.0\\\" encoding=\\\"UTF-8\\\"?> <transactions id=\\\"1\\\">\" + \\\n",
    "        \"  <query id=\\\"5\\\"/>\" + \\\n",
    "        \"</transactions>\";\n",
    "request = str(len(query1)) + '\\n' + query1\n",
    "client_socket.sendall(request.encode())\n",
    "\n",
    "# 接收响应\n",
    "response = client_socket.recv(1024).decode()\n",
    "print('Received response:')\n",
    "print(response)\n",
    "client_socket.close()   \n",
    "    "
   ]
  },
  {
   "cell_type": "code",
   "execution_count": 115,
   "id": "f1a7a1e1",
   "metadata": {},
   "outputs": [
    {
     "name": "stdout",
     "output_type": "stream",
     "text": [
      "Received response:\n",
      "<results>\n",
      "    <canceled id=\"3\">\n",
      "        <canceled shares=\"150\" time=\"1715026738\"/>\n",
      "        <executed shares=\"100\" price=\"150.0\" time=\"1715026738\"/>\n",
      "        <executed shares=\"100\" price=\"180.0\" time=\"1715026738\"/>\n",
      "        <executed shares=\"150\" price=\"200.0\" time=\"1715026738\"/>\n",
      "    </canceled>\n",
      "</results>\n"
     ]
    }
   ],
   "source": [
    "#cancel\n",
    "# 创建 socket 对象\n",
    "client_socket = socket.socket(socket.AF_INET, socket.SOCK_STREAM)\n",
    "\n",
    "# 连接到服务器\n",
    "server_address = ('localhost', 12345)\n",
    "client_socket.connect(server_address)\n",
    "query1 = \"<?xml version=\\\"1.0\\\" encoding=\\\"UTF-8\\\"?> <transactions id=\\\"3\\\">\" + \\\n",
    "        \"  <cancel id=\\\"3\\\"/>\" + \\\n",
    "        \"</transactions>\";\n",
    "request = str(len(query1)) + '\\n' + query1\n",
    "client_socket.sendall(request.encode())\n",
    "\n",
    "# 接收响应\n",
    "response = client_socket.recv(1024).decode()\n",
    "print('Received response:')\n",
    "print(response)\n",
    "client_socket.close()   \n",
    "    "
   ]
  },
  {
   "cell_type": "code",
   "execution_count": null,
   "id": "178fd033",
   "metadata": {},
   "outputs": [],
   "source": []
  },
  {
   "cell_type": "code",
   "execution_count": null,
   "id": "8cc11830",
   "metadata": {},
   "outputs": [],
   "source": []
  }
 ],
 "metadata": {
  "kernelspec": {
   "display_name": "Python 3 (ipykernel)",
   "language": "python",
   "name": "python3"
  },
  "language_info": {
   "codemirror_mode": {
    "name": "ipython",
    "version": 3
   },
   "file_extension": ".py",
   "mimetype": "text/x-python",
   "name": "python",
   "nbconvert_exporter": "python",
   "pygments_lexer": "ipython3",
   "version": "3.8.10"
  }
 },
 "nbformat": 4,
 "nbformat_minor": 5
}
